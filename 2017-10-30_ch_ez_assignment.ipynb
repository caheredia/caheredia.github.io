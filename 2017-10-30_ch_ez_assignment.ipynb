{
 "cells": [
  {
   "cell_type": "code",
   "execution_count": 1,
   "metadata": {
    "collapsed": true
   },
   "outputs": [],
   "source": [
    "import pandas as pd\n",
    "import matplotlib.pyplot as plt\n",
    "import seaborn as sns\n",
    "import numpy as np\n",
    "from uszipcode import ZipcodeSearchEngine\n",
    "search = ZipcodeSearchEngine()\n",
    "%matplotlib inline\n",
    "import os\n",
    "import gmaps\n",
    "from ipywidgets.embed import embed_minimal_html\n",
    "\n",
    "gmaps.configure(api_key=os.environ[\"GOOGLE_API_KEY\"])"
   ]
  },
  {
   "cell_type": "markdown",
   "metadata": {},
   "source": [
    "# Introduction \n",
    "Depending on the business, often sales data is recorded in a nonstandard form. But in order to run analytics on sales data, raw data files need to be cleaned up and merged together in a meaningful way. Therefore, this Jupyter notebook merges two CSV files (one addressing delivery times associated with geoinformation, the other individual sales). The notebook unpacked many fields from geoinformation such as zip code and city and average income. It also assessed metrics by graphing extrapolated data. The data revealed that most of the sales are concentrated in large cities: San Francisco, Oakland, San Diego. The findings reveal that bay area business strategies are effective relative to the rest of the state. The heatmap graph of sales reveals many potential markets for growth. "
   ]
  },
  {
   "cell_type": "markdown",
   "metadata": {},
   "source": [
    "# 1. Join these tables in a meaningful way \n",
    "Below I'll join the tables with merge on the column 'order id'. It should be noted that the tables are not of equal size, thus some of the features (columns) will have missing values. "
   ]
  },
  {
   "cell_type": "code",
   "execution_count": 127,
   "metadata": {},
   "outputs": [
    {
     "data": {
      "text/html": [
       "<div>\n",
       "<table border=\"1\" class=\"dataframe\">\n",
       "  <thead>\n",
       "    <tr style=\"text-align: right;\">\n",
       "      <th></th>\n",
       "      <th>orderid</th>\n",
       "      <th>latitude</th>\n",
       "      <th>longitude</th>\n",
       "      <th>estimateddeliverytime</th>\n",
       "    </tr>\n",
       "  </thead>\n",
       "  <tbody>\n",
       "    <tr>\n",
       "      <th>0</th>\n",
       "      <td>1552679</td>\n",
       "      <td>37.697073</td>\n",
       "      <td>-122.485903</td>\n",
       "      <td>259.0</td>\n",
       "    </tr>\n",
       "    <tr>\n",
       "      <th>1</th>\n",
       "      <td>1552697</td>\n",
       "      <td>37.782185</td>\n",
       "      <td>-122.454544</td>\n",
       "      <td>54.0</td>\n",
       "    </tr>\n",
       "    <tr>\n",
       "      <th>2</th>\n",
       "      <td>1552675</td>\n",
       "      <td>37.780840</td>\n",
       "      <td>-122.395820</td>\n",
       "      <td>228.0</td>\n",
       "    </tr>\n",
       "    <tr>\n",
       "      <th>3</th>\n",
       "      <td>1552934</td>\n",
       "      <td>37.783131</td>\n",
       "      <td>-122.388962</td>\n",
       "      <td>209.0</td>\n",
       "    </tr>\n",
       "    <tr>\n",
       "      <th>4</th>\n",
       "      <td>1552983</td>\n",
       "      <td>37.323786</td>\n",
       "      <td>-121.878904</td>\n",
       "      <td>345.0</td>\n",
       "    </tr>\n",
       "  </tbody>\n",
       "</table>\n",
       "</div>"
      ],
      "text/plain": [
       "   orderid   latitude   longitude  estimateddeliverytime\n",
       "0  1552679  37.697073 -122.485903                  259.0\n",
       "1  1552697  37.782185 -122.454544                   54.0\n",
       "2  1552675  37.780840 -122.395820                  228.0\n",
       "3  1552934  37.783131 -122.388962                  209.0\n",
       "4  1552983  37.323786 -121.878904                  345.0"
      ]
     },
     "execution_count": 127,
     "metadata": {},
     "output_type": "execute_result"
    }
   ],
   "source": [
    "df_delivery = pd.read_csv('../data/delivery_geography.csv')\n",
    "df_delivery.head()"
   ]
  },
  {
   "cell_type": "code",
   "execution_count": 128,
   "metadata": {},
   "outputs": [
    {
     "data": {
      "text/html": [
       "<div>\n",
       "<table border=\"1\" class=\"dataframe\">\n",
       "  <thead>\n",
       "    <tr style=\"text-align: right;\">\n",
       "      <th></th>\n",
       "      <th>orderid</th>\n",
       "      <th>deliveredat</th>\n",
       "      <th>totalprice</th>\n",
       "    </tr>\n",
       "  </thead>\n",
       "  <tbody>\n",
       "    <tr>\n",
       "      <th>0</th>\n",
       "      <td>1552553</td>\n",
       "      <td>2017-08-08T00:02:29.980+00:00</td>\n",
       "      <td>176.11</td>\n",
       "    </tr>\n",
       "    <tr>\n",
       "      <th>1</th>\n",
       "      <td>1552559</td>\n",
       "      <td>2017-08-08T00:09:06.077+00:00</td>\n",
       "      <td>71.03</td>\n",
       "    </tr>\n",
       "    <tr>\n",
       "      <th>2</th>\n",
       "      <td>1552499</td>\n",
       "      <td>2017-08-08T00:15:03.847+00:00</td>\n",
       "      <td>61.95</td>\n",
       "    </tr>\n",
       "    <tr>\n",
       "      <th>3</th>\n",
       "      <td>1552617</td>\n",
       "      <td>2017-08-08T00:16:40.820+00:00</td>\n",
       "      <td>62.40</td>\n",
       "    </tr>\n",
       "    <tr>\n",
       "      <th>4</th>\n",
       "      <td>1552632</td>\n",
       "      <td>2017-08-08T00:31:27.957+00:00</td>\n",
       "      <td>64.16</td>\n",
       "    </tr>\n",
       "  </tbody>\n",
       "</table>\n",
       "</div>"
      ],
      "text/plain": [
       "   orderid                    deliveredat  totalprice\n",
       "0  1552553  2017-08-08T00:02:29.980+00:00      176.11\n",
       "1  1552559  2017-08-08T00:09:06.077+00:00       71.03\n",
       "2  1552499  2017-08-08T00:15:03.847+00:00       61.95\n",
       "3  1552617  2017-08-08T00:16:40.820+00:00       62.40\n",
       "4  1552632  2017-08-08T00:31:27.957+00:00       64.16"
      ]
     },
     "execution_count": 128,
     "metadata": {},
     "output_type": "execute_result"
    }
   ],
   "source": [
    "df_prices = pd.read_csv('../data/delivery_prices.csv')\n",
    "df_prices.head()"
   ]
  },
  {
   "cell_type": "code",
   "execution_count": 129,
   "metadata": {},
   "outputs": [
    {
     "data": {
      "text/html": [
       "<div>\n",
       "<table border=\"1\" class=\"dataframe\">\n",
       "  <thead>\n",
       "    <tr style=\"text-align: right;\">\n",
       "      <th></th>\n",
       "      <th>date</th>\n",
       "      <th>sales</th>\n",
       "      <th>lat</th>\n",
       "      <th>lon</th>\n",
       "      <th>delivery time</th>\n",
       "    </tr>\n",
       "    <tr>\n",
       "      <th>orderid</th>\n",
       "      <th></th>\n",
       "      <th></th>\n",
       "      <th></th>\n",
       "      <th></th>\n",
       "      <th></th>\n",
       "    </tr>\n",
       "  </thead>\n",
       "  <tbody>\n",
       "    <tr>\n",
       "      <th>1553535</th>\n",
       "      <td>NaN</td>\n",
       "      <td>NaN</td>\n",
       "      <td>34.012453</td>\n",
       "      <td>-118.457838</td>\n",
       "      <td>1077.0</td>\n",
       "    </tr>\n",
       "    <tr>\n",
       "      <th>1553536</th>\n",
       "      <td>2017-08-08T02:26:01.213+00:00</td>\n",
       "      <td>43.73</td>\n",
       "      <td>37.779351</td>\n",
       "      <td>-122.497121</td>\n",
       "      <td>235.0</td>\n",
       "    </tr>\n",
       "    <tr>\n",
       "      <th>1553537</th>\n",
       "      <td>2017-08-08T02:30:57.383+00:00</td>\n",
       "      <td>137.47</td>\n",
       "      <td>37.807403</td>\n",
       "      <td>-122.301621</td>\n",
       "      <td>172.0</td>\n",
       "    </tr>\n",
       "    <tr>\n",
       "      <th>1553538</th>\n",
       "      <td>2017-08-08T02:38:09.680+00:00</td>\n",
       "      <td>56.94</td>\n",
       "      <td>37.748804</td>\n",
       "      <td>-122.423628</td>\n",
       "      <td>20.0</td>\n",
       "    </tr>\n",
       "    <tr>\n",
       "      <th>1553539</th>\n",
       "      <td>2017-08-08T03:30:50.513+00:00</td>\n",
       "      <td>65.22</td>\n",
       "      <td>37.485039</td>\n",
       "      <td>-122.192457</td>\n",
       "      <td>119.0</td>\n",
       "    </tr>\n",
       "  </tbody>\n",
       "</table>\n",
       "</div>"
      ],
      "text/plain": [
       "                                  date   sales        lat         lon  \\\n",
       "orderid                                                                 \n",
       "1553535                            NaN     NaN  34.012453 -118.457838   \n",
       "1553536  2017-08-08T02:26:01.213+00:00   43.73  37.779351 -122.497121   \n",
       "1553537  2017-08-08T02:30:57.383+00:00  137.47  37.807403 -122.301621   \n",
       "1553538  2017-08-08T02:38:09.680+00:00   56.94  37.748804 -122.423628   \n",
       "1553539  2017-08-08T03:30:50.513+00:00   65.22  37.485039 -122.192457   \n",
       "\n",
       "         delivery time  \n",
       "orderid                 \n",
       "1553535         1077.0  \n",
       "1553536          235.0  \n",
       "1553537          172.0  \n",
       "1553538           20.0  \n",
       "1553539          119.0  "
      ]
     },
     "execution_count": 129,
     "metadata": {},
     "output_type": "execute_result"
    }
   ],
   "source": [
    "# Change the index to 'orderid' column\n",
    "df_prices = df_prices.set_index('orderid')\n",
    "df_delivery = df_delivery.set_index('orderid')\n",
    "# Merge on 'oderid' column\n",
    "df_join = pd.merge(df_prices, df_delivery, how='outer',\n",
    "                   left_index=True, right_index=True)\n",
    "# rename columns\n",
    "df_join.columns = ['date', 'sales', 'lat', 'lon', 'delivery time']\n",
    "# sample of table values\n",
    "df_join[1020:1025]"
   ]
  },
  {
   "cell_type": "code",
   "execution_count": 131,
   "metadata": {},
   "outputs": [
    {
     "data": {
      "text/plain": [
       "'Number of rows for df_join dataframe:  3849'"
      ]
     },
     "execution_count": 131,
     "metadata": {},
     "output_type": "execute_result"
    }
   ],
   "source": [
    "'Number of rows for df_join dataframe:  {}'.format(len(df_join))"
   ]
  },
  {
   "cell_type": "markdown",
   "metadata": {},
   "source": [
    "# 2. Find at least one source of external information that you think would augment this table well and add it into the joined table.\n",
    "\n",
    "- Using the uszipcode 0.1.3 python package I can look up the zipcode, city, and average income for each latitude, longitude entry\n",
    "- Using the Date Functionality in Pandas will allow the unpacking of the time stamp into days and time, which will give a more granular view of when purchases occur. \n",
    "\n",
    "Even though the sample data did not vary in weekdays this information would be a good metric to know for market exploration purposes.\n"
   ]
  },
  {
   "cell_type": "code",
   "execution_count": 6,
   "metadata": {
    "collapsed": true
   },
   "outputs": [],
   "source": [
    "def geo_data(df, lat, lon):\n",
    "    '''This function returns the dataframe with zipcode, average income, and city as columns. \n",
    "    The function takes a dataframe and column names as strings for latitude and longitude data.\n",
    "    It uses the uszipcode library to convert latitude, longitude into zipcode, city, and avg income\n",
    "    for geo data.'''\n",
    "    # average income\n",
    "    df['avg income'] = df.apply(lambda x: search.by_coordinate(x[lat], x[lon], radius=4, returns=1)[\n",
    "        0]['Wealthy'] if (x[lat] > 0) else None, axis=1).round(0)\n",
    "    # zipcode\n",
    "    df['zipcode'] = df.apply(lambda x:  search.by_coordinate(\n",
    "        x[lat], x[lon], radius=4, returns=1)[0]['Zipcode'] if (x[lat] > 0) else None, axis=1)\n",
    "    # city\n",
    "    df['city'] = df.apply(lambda x:  search.by_coordinate(\n",
    "        x[lat], x[lon], radius=4, returns=1)[0]['City'] if (x[lat] > 0) else None, axis=1)"
   ]
  },
  {
   "cell_type": "code",
   "execution_count": 7,
   "metadata": {},
   "outputs": [
    {
     "data": {
      "text/html": [
       "<div>\n",
       "<table border=\"1\" class=\"dataframe\">\n",
       "  <thead>\n",
       "    <tr style=\"text-align: right;\">\n",
       "      <th></th>\n",
       "      <th>date</th>\n",
       "      <th>sales</th>\n",
       "      <th>lat</th>\n",
       "      <th>lon</th>\n",
       "      <th>delivery time</th>\n",
       "      <th>avg income</th>\n",
       "      <th>zipcode</th>\n",
       "      <th>city</th>\n",
       "    </tr>\n",
       "    <tr>\n",
       "      <th>orderid</th>\n",
       "      <th></th>\n",
       "      <th></th>\n",
       "      <th></th>\n",
       "      <th></th>\n",
       "      <th></th>\n",
       "      <th></th>\n",
       "      <th></th>\n",
       "      <th></th>\n",
       "    </tr>\n",
       "  </thead>\n",
       "  <tbody>\n",
       "    <tr>\n",
       "      <th>1553535</th>\n",
       "      <td>NaN</td>\n",
       "      <td>NaN</td>\n",
       "      <td>34.012453</td>\n",
       "      <td>-118.457838</td>\n",
       "      <td>1077.0</td>\n",
       "      <td>39765.0</td>\n",
       "      <td>90405</td>\n",
       "      <td>Santa Monica</td>\n",
       "    </tr>\n",
       "    <tr>\n",
       "      <th>1553536</th>\n",
       "      <td>2017-08-08T02:26:01.213+00:00</td>\n",
       "      <td>43.73</td>\n",
       "      <td>37.779351</td>\n",
       "      <td>-122.497121</td>\n",
       "      <td>235.0</td>\n",
       "      <td>29058.0</td>\n",
       "      <td>94121</td>\n",
       "      <td>San Francisco</td>\n",
       "    </tr>\n",
       "    <tr>\n",
       "      <th>1553537</th>\n",
       "      <td>2017-08-08T02:30:57.383+00:00</td>\n",
       "      <td>137.47</td>\n",
       "      <td>37.807403</td>\n",
       "      <td>-122.301621</td>\n",
       "      <td>172.0</td>\n",
       "      <td>14127.0</td>\n",
       "      <td>94607</td>\n",
       "      <td>Oakland</td>\n",
       "    </tr>\n",
       "    <tr>\n",
       "      <th>1553538</th>\n",
       "      <td>2017-08-08T02:38:09.680+00:00</td>\n",
       "      <td>56.94</td>\n",
       "      <td>37.748804</td>\n",
       "      <td>-122.423628</td>\n",
       "      <td>20.0</td>\n",
       "      <td>27502.0</td>\n",
       "      <td>94110</td>\n",
       "      <td>San Francisco</td>\n",
       "    </tr>\n",
       "    <tr>\n",
       "      <th>1553539</th>\n",
       "      <td>2017-08-08T03:30:50.513+00:00</td>\n",
       "      <td>65.22</td>\n",
       "      <td>37.485039</td>\n",
       "      <td>-122.192457</td>\n",
       "      <td>119.0</td>\n",
       "      <td>14781.0</td>\n",
       "      <td>94063</td>\n",
       "      <td>Redwood City</td>\n",
       "    </tr>\n",
       "  </tbody>\n",
       "</table>\n",
       "</div>"
      ],
      "text/plain": [
       "                                  date   sales        lat         lon  \\\n",
       "orderid                                                                 \n",
       "1553535                            NaN     NaN  34.012453 -118.457838   \n",
       "1553536  2017-08-08T02:26:01.213+00:00   43.73  37.779351 -122.497121   \n",
       "1553537  2017-08-08T02:30:57.383+00:00  137.47  37.807403 -122.301621   \n",
       "1553538  2017-08-08T02:38:09.680+00:00   56.94  37.748804 -122.423628   \n",
       "1553539  2017-08-08T03:30:50.513+00:00   65.22  37.485039 -122.192457   \n",
       "\n",
       "         delivery time  avg income zipcode           city  \n",
       "orderid                                                    \n",
       "1553535         1077.0     39765.0   90405   Santa Monica  \n",
       "1553536          235.0     29058.0   94121  San Francisco  \n",
       "1553537          172.0     14127.0   94607        Oakland  \n",
       "1553538           20.0     27502.0   94110  San Francisco  \n",
       "1553539          119.0     14781.0   94063   Redwood City  "
      ]
     },
     "execution_count": 7,
     "metadata": {},
     "output_type": "execute_result"
    }
   ],
   "source": [
    "geo_data(df_join, 'lat', 'lon')\n",
    "df_join[1020:1025]  #sample of table values "
   ]
  },
  {
   "cell_type": "code",
   "execution_count": 8,
   "metadata": {
    "collapsed": true
   },
   "outputs": [],
   "source": [
    "def df_day(df, timestamp):\n",
    "    '''This functions converts a string timestamp into pandas datetime structure. \n",
    "    The function makes a new column by extacting the weekday.'''\n",
    "    # Convert string timestamp to pandas datetime\n",
    "    df[timestamp] = pd.to_datetime(df_join[timestamp])\n",
    "    # Make new column with weekday\n",
    "    df['day'] = df[timestamp].dt.weekday_name"
   ]
  },
  {
   "cell_type": "code",
   "execution_count": 9,
   "metadata": {},
   "outputs": [
    {
     "data": {
      "text/html": [
       "<div>\n",
       "<table border=\"1\" class=\"dataframe\">\n",
       "  <thead>\n",
       "    <tr style=\"text-align: right;\">\n",
       "      <th></th>\n",
       "      <th>date</th>\n",
       "      <th>sales</th>\n",
       "      <th>lat</th>\n",
       "      <th>lon</th>\n",
       "      <th>delivery time</th>\n",
       "      <th>avg income</th>\n",
       "      <th>zipcode</th>\n",
       "      <th>city</th>\n",
       "      <th>day</th>\n",
       "    </tr>\n",
       "    <tr>\n",
       "      <th>orderid</th>\n",
       "      <th></th>\n",
       "      <th></th>\n",
       "      <th></th>\n",
       "      <th></th>\n",
       "      <th></th>\n",
       "      <th></th>\n",
       "      <th></th>\n",
       "      <th></th>\n",
       "      <th></th>\n",
       "    </tr>\n",
       "  </thead>\n",
       "  <tbody>\n",
       "    <tr>\n",
       "      <th>1553535</th>\n",
       "      <td>NaT</td>\n",
       "      <td>NaN</td>\n",
       "      <td>34.012453</td>\n",
       "      <td>-118.457838</td>\n",
       "      <td>1077.0</td>\n",
       "      <td>39765.0</td>\n",
       "      <td>90405</td>\n",
       "      <td>Santa Monica</td>\n",
       "      <td>NaN</td>\n",
       "    </tr>\n",
       "    <tr>\n",
       "      <th>1553536</th>\n",
       "      <td>2017-08-08 02:26:01.213</td>\n",
       "      <td>43.73</td>\n",
       "      <td>37.779351</td>\n",
       "      <td>-122.497121</td>\n",
       "      <td>235.0</td>\n",
       "      <td>29058.0</td>\n",
       "      <td>94121</td>\n",
       "      <td>San Francisco</td>\n",
       "      <td>Tuesday</td>\n",
       "    </tr>\n",
       "    <tr>\n",
       "      <th>1553537</th>\n",
       "      <td>2017-08-08 02:30:57.383</td>\n",
       "      <td>137.47</td>\n",
       "      <td>37.807403</td>\n",
       "      <td>-122.301621</td>\n",
       "      <td>172.0</td>\n",
       "      <td>14127.0</td>\n",
       "      <td>94607</td>\n",
       "      <td>Oakland</td>\n",
       "      <td>Tuesday</td>\n",
       "    </tr>\n",
       "    <tr>\n",
       "      <th>1553538</th>\n",
       "      <td>2017-08-08 02:38:09.680</td>\n",
       "      <td>56.94</td>\n",
       "      <td>37.748804</td>\n",
       "      <td>-122.423628</td>\n",
       "      <td>20.0</td>\n",
       "      <td>27502.0</td>\n",
       "      <td>94110</td>\n",
       "      <td>San Francisco</td>\n",
       "      <td>Tuesday</td>\n",
       "    </tr>\n",
       "    <tr>\n",
       "      <th>1553539</th>\n",
       "      <td>2017-08-08 03:30:50.513</td>\n",
       "      <td>65.22</td>\n",
       "      <td>37.485039</td>\n",
       "      <td>-122.192457</td>\n",
       "      <td>119.0</td>\n",
       "      <td>14781.0</td>\n",
       "      <td>94063</td>\n",
       "      <td>Redwood City</td>\n",
       "      <td>Tuesday</td>\n",
       "    </tr>\n",
       "  </tbody>\n",
       "</table>\n",
       "</div>"
      ],
      "text/plain": [
       "                           date   sales        lat         lon  delivery time  \\\n",
       "orderid                                                                         \n",
       "1553535                     NaT     NaN  34.012453 -118.457838         1077.0   \n",
       "1553536 2017-08-08 02:26:01.213   43.73  37.779351 -122.497121          235.0   \n",
       "1553537 2017-08-08 02:30:57.383  137.47  37.807403 -122.301621          172.0   \n",
       "1553538 2017-08-08 02:38:09.680   56.94  37.748804 -122.423628           20.0   \n",
       "1553539 2017-08-08 03:30:50.513   65.22  37.485039 -122.192457          119.0   \n",
       "\n",
       "         avg income zipcode           city      day  \n",
       "orderid                                              \n",
       "1553535     39765.0   90405   Santa Monica      NaN  \n",
       "1553536     29058.0   94121  San Francisco  Tuesday  \n",
       "1553537     14127.0   94607        Oakland  Tuesday  \n",
       "1553538     27502.0   94110  San Francisco  Tuesday  \n",
       "1553539     14781.0   94063   Redwood City  Tuesday  "
      ]
     },
     "execution_count": 9,
     "metadata": {},
     "output_type": "execute_result"
    }
   ],
   "source": [
    "df_day(df_join, 'date')\n",
    "df_join[1020:1025]  #sample of table values "
   ]
  },
  {
   "cell_type": "markdown",
   "metadata": {},
   "source": [
    "A list of the features for the table above : <br>\n",
    "- **orderid**: unique identifier per order (int)\n",
    "- **date**: Timestamp of delivery \n",
    "- **sales**: Total product sold (USD)\n",
    "- **lat**: Latitude: delivery location (degrees)\n",
    "- **lon**: Longitude: delivery location (degrees)\n",
    "- **delivery time**: An estimate of how long a delivery took (seconds)\n",
    "- **avg income**: Average income for given zipcode  \n",
    "- **zipcode**: The zipcode corresponding to delivery location  \n",
    "- **city**: The city corresponding to geoinformation \n",
    "- **day**: The day of the week for delivery"
   ]
  },
  {
   "cell_type": "code",
   "execution_count": 10,
   "metadata": {},
   "outputs": [
    {
     "data": {
      "text/plain": [
       "Tuesday    3352\n",
       "Name: day, dtype: int64"
      ]
     },
     "execution_count": 10,
     "metadata": {},
     "output_type": "execute_result"
    }
   ],
   "source": [
    "# Count the instances for each weekday\n",
    "df_join.day.value_counts()"
   ]
  },
  {
   "cell_type": "markdown",
   "metadata": {},
   "source": [
    "# 3. Explain (at a high level) how you would perform this join on a live data pipeline in a performant way.\n",
    "\n",
    "To perform this join on a pipeline I would implement the join SQL command, e.g, FULL OUTER JOIN. Or design the data capture to record to a single table instead of two. \n"
   ]
  },
  {
   "cell_type": "markdown",
   "metadata": {},
   "source": [
    "# 4. Use any clustering/classification technique to divide the data into at least 3 and at most 20 groups. Annotate your joined table with this classification."
   ]
  },
  {
   "cell_type": "markdown",
   "metadata": {},
   "source": [
    "A list of the features for the clustered table below : <br>\n",
    "- **city**: The city corresponding to geoinformation \n",
    "- **zipcode**: The zipcode corresponding to delivery location  \n",
    "- **sales**: Average sale for zipcode  (USD)\n",
    "- **delivery time**: Average delivery time for zipcode  \n",
    "- **avg income**: Average income for zipcode"
   ]
  },
  {
   "cell_type": "code",
   "execution_count": 23,
   "metadata": {
    "scrolled": true
   },
   "outputs": [
    {
     "data": {
      "text/html": [
       "<div>\n",
       "<table border=\"1\" class=\"dataframe\">\n",
       "  <thead>\n",
       "    <tr style=\"text-align: right;\">\n",
       "      <th></th>\n",
       "      <th></th>\n",
       "      <th>sales</th>\n",
       "      <th>delivery time</th>\n",
       "      <th>avg income</th>\n",
       "    </tr>\n",
       "    <tr>\n",
       "      <th>city</th>\n",
       "      <th>zipcode</th>\n",
       "      <th></th>\n",
       "      <th></th>\n",
       "      <th></th>\n",
       "    </tr>\n",
       "  </thead>\n",
       "  <tbody>\n",
       "    <tr>\n",
       "      <th rowspan=\"2\" valign=\"top\">Alameda</th>\n",
       "      <th>94501</th>\n",
       "      <td>70.4</td>\n",
       "      <td>296.7</td>\n",
       "      <td>24503.0</td>\n",
       "    </tr>\n",
       "    <tr>\n",
       "      <th>94502</th>\n",
       "      <td>82.5</td>\n",
       "      <td>127.0</td>\n",
       "      <td>37282.0</td>\n",
       "    </tr>\n",
       "    <tr>\n",
       "      <th>Albany</th>\n",
       "      <th>94706</th>\n",
       "      <td>75.7</td>\n",
       "      <td>305.8</td>\n",
       "      <td>24630.0</td>\n",
       "    </tr>\n",
       "    <tr>\n",
       "      <th>Anaheim</th>\n",
       "      <th>92801</th>\n",
       "      <td>84.8</td>\n",
       "      <td>23.0</td>\n",
       "      <td>12744.0</td>\n",
       "    </tr>\n",
       "    <tr>\n",
       "      <th>Aptos</th>\n",
       "      <th>95003</th>\n",
       "      <td>126.7</td>\n",
       "      <td>344.0</td>\n",
       "      <td>24796.0</td>\n",
       "    </tr>\n",
       "    <tr>\n",
       "      <th>Atherton</th>\n",
       "      <th>94027</th>\n",
       "      <td>78.3</td>\n",
       "      <td>226.6</td>\n",
       "      <td>130531.0</td>\n",
       "    </tr>\n",
       "    <tr>\n",
       "      <th>Belmont</th>\n",
       "      <th>94002</th>\n",
       "      <td>56.5</td>\n",
       "      <td>181.4</td>\n",
       "      <td>41416.0</td>\n",
       "    </tr>\n",
       "    <tr>\n",
       "      <th rowspan=\"7\" valign=\"top\">Berkeley</th>\n",
       "      <th>94702</th>\n",
       "      <td>71.5</td>\n",
       "      <td>235.2</td>\n",
       "      <td>21607.0</td>\n",
       "    </tr>\n",
       "    <tr>\n",
       "      <th>94703</th>\n",
       "      <td>67.2</td>\n",
       "      <td>182.0</td>\n",
       "      <td>19617.0</td>\n",
       "    </tr>\n",
       "    <tr>\n",
       "      <th>94704</th>\n",
       "      <td>63.6</td>\n",
       "      <td>218.0</td>\n",
       "      <td>6931.0</td>\n",
       "    </tr>\n",
       "    <tr>\n",
       "      <th>94705</th>\n",
       "      <td>43.8</td>\n",
       "      <td>188.1</td>\n",
       "      <td>42749.0</td>\n",
       "    </tr>\n",
       "    <tr>\n",
       "      <th>94707</th>\n",
       "      <td>102.5</td>\n",
       "      <td>137.0</td>\n",
       "      <td>40213.0</td>\n",
       "    </tr>\n",
       "    <tr>\n",
       "      <th>94709</th>\n",
       "      <td>67.1</td>\n",
       "      <td>242.2</td>\n",
       "      <td>18362.0</td>\n",
       "    </tr>\n",
       "    <tr>\n",
       "      <th>94710</th>\n",
       "      <td>69.7</td>\n",
       "      <td>148.6</td>\n",
       "      <td>18683.0</td>\n",
       "    </tr>\n",
       "    <tr>\n",
       "      <th>Brisbane</th>\n",
       "      <th>94005</th>\n",
       "      <td>62.5</td>\n",
       "      <td>175.1</td>\n",
       "      <td>46645.0</td>\n",
       "    </tr>\n",
       "    <tr>\n",
       "      <th>Burlingame</th>\n",
       "      <th>94010</th>\n",
       "      <td>52.2</td>\n",
       "      <td>214.9</td>\n",
       "      <td>NaN</td>\n",
       "    </tr>\n",
       "    <tr>\n",
       "      <th>Campbell</th>\n",
       "      <th>95008</th>\n",
       "      <td>62.7</td>\n",
       "      <td>0.0</td>\n",
       "      <td>30810.0</td>\n",
       "    </tr>\n",
       "    <tr>\n",
       "      <th>Capitola</th>\n",
       "      <th>95010</th>\n",
       "      <td>92.8</td>\n",
       "      <td>321.6</td>\n",
       "      <td>22951.0</td>\n",
       "    </tr>\n",
       "    <tr>\n",
       "      <th rowspan=\"2\" valign=\"top\">Carson</th>\n",
       "      <th>90745</th>\n",
       "      <td>36.0</td>\n",
       "      <td>145.0</td>\n",
       "      <td>16970.0</td>\n",
       "    </tr>\n",
       "    <tr>\n",
       "      <th>90746</th>\n",
       "      <td>54.2</td>\n",
       "      <td>675.5</td>\n",
       "      <td>19531.0</td>\n",
       "    </tr>\n",
       "  </tbody>\n",
       "</table>\n",
       "</div>"
      ],
      "text/plain": [
       "                    sales  delivery time  avg income\n",
       "city       zipcode                                  \n",
       "Alameda    94501     70.4          296.7     24503.0\n",
       "           94502     82.5          127.0     37282.0\n",
       "Albany     94706     75.7          305.8     24630.0\n",
       "Anaheim    92801     84.8           23.0     12744.0\n",
       "Aptos      95003    126.7          344.0     24796.0\n",
       "Atherton   94027     78.3          226.6    130531.0\n",
       "Belmont    94002     56.5          181.4     41416.0\n",
       "Berkeley   94702     71.5          235.2     21607.0\n",
       "           94703     67.2          182.0     19617.0\n",
       "           94704     63.6          218.0      6931.0\n",
       "           94705     43.8          188.1     42749.0\n",
       "           94707    102.5          137.0     40213.0\n",
       "           94709     67.1          242.2     18362.0\n",
       "           94710     69.7          148.6     18683.0\n",
       "Brisbane   94005     62.5          175.1     46645.0\n",
       "Burlingame 94010     52.2          214.9         NaN\n",
       "Campbell   95008     62.7            0.0     30810.0\n",
       "Capitola   95010     92.8          321.6     22951.0\n",
       "Carson     90745     36.0          145.0     16970.0\n",
       "           90746     54.2          675.5     19531.0"
      ]
     },
     "execution_count": 23,
     "metadata": {},
     "output_type": "execute_result"
    }
   ],
   "source": [
    "# Average sale and income per zipcode, only showing the first 20 rows \n",
    "(df_join.groupby(['city', 'zipcode'])\n",
    " .aggregate('mean')\n",
    " .drop(df_join[['lat', 'lon']], axis=1)\n",
    " .round(1))[0:20]"
   ]
  },
  {
   "cell_type": "code",
   "execution_count": 16,
   "metadata": {
    "collapsed": true
   },
   "outputs": [],
   "source": [
    "# The following dataframe groups df_join by city\n",
    "df_city_group = (df_join.set_index('city').groupby(level=0)['sales']\n",
    "                 .agg({'avg sale': np.mean, 'sum': np.sum})\n",
    "                 .astype(int))"
   ]
  },
  {
   "cell_type": "code",
   "execution_count": 25,
   "metadata": {},
   "outputs": [
    {
     "data": {
      "text/html": [
       "<div>\n",
       "<table border=\"1\" class=\"dataframe\">\n",
       "  <thead>\n",
       "    <tr style=\"text-align: right;\">\n",
       "      <th></th>\n",
       "      <th>avg sale</th>\n",
       "      <th>sum</th>\n",
       "    </tr>\n",
       "    <tr>\n",
       "      <th>city</th>\n",
       "      <th></th>\n",
       "      <th></th>\n",
       "    </tr>\n",
       "  </thead>\n",
       "  <tbody>\n",
       "    <tr>\n",
       "      <th>San Francisco</th>\n",
       "      <td>71</td>\n",
       "      <td>72295</td>\n",
       "    </tr>\n",
       "    <tr>\n",
       "      <th>Oakland</th>\n",
       "      <td>63</td>\n",
       "      <td>21071</td>\n",
       "    </tr>\n",
       "    <tr>\n",
       "      <th>San Diego</th>\n",
       "      <td>70</td>\n",
       "      <td>16746</td>\n",
       "    </tr>\n",
       "    <tr>\n",
       "      <th>San Mateo</th>\n",
       "      <td>69</td>\n",
       "      <td>10443</td>\n",
       "    </tr>\n",
       "    <tr>\n",
       "      <th>Santa Cruz</th>\n",
       "      <td>85</td>\n",
       "      <td>8987</td>\n",
       "    </tr>\n",
       "  </tbody>\n",
       "</table>\n",
       "</div>"
      ],
      "text/plain": [
       "               avg sale    sum\n",
       "city                          \n",
       "San Francisco        71  72295\n",
       "Oakland              63  21071\n",
       "San Diego            70  16746\n",
       "San Mateo            69  10443\n",
       "Santa Cruz           85   8987"
      ]
     },
     "execution_count": 25,
     "metadata": {},
     "output_type": "execute_result"
    }
   ],
   "source": [
    "# Sort by sum of purchases for each city in descending order, displaying first 5 entries \n",
    "df_city_group.sort_values(by='sum', ascending=False).head()"
   ]
  },
  {
   "cell_type": "code",
   "execution_count": 24,
   "metadata": {},
   "outputs": [
    {
     "data": {
      "text/html": [
       "<div>\n",
       "<table border=\"1\" class=\"dataframe\">\n",
       "  <thead>\n",
       "    <tr style=\"text-align: right;\">\n",
       "      <th></th>\n",
       "      <th>avg sale</th>\n",
       "      <th>sum</th>\n",
       "    </tr>\n",
       "    <tr>\n",
       "      <th>city</th>\n",
       "      <th></th>\n",
       "      <th></th>\n",
       "    </tr>\n",
       "  </thead>\n",
       "  <tbody>\n",
       "    <tr>\n",
       "      <th>Laguna Hills</th>\n",
       "      <td>126</td>\n",
       "      <td>252</td>\n",
       "    </tr>\n",
       "    <tr>\n",
       "      <th>Aptos</th>\n",
       "      <td>126</td>\n",
       "      <td>3548</td>\n",
       "    </tr>\n",
       "    <tr>\n",
       "      <th>Santa Ana</th>\n",
       "      <td>113</td>\n",
       "      <td>226</td>\n",
       "    </tr>\n",
       "    <tr>\n",
       "      <th>Costa Mesa</th>\n",
       "      <td>113</td>\n",
       "      <td>1021</td>\n",
       "    </tr>\n",
       "    <tr>\n",
       "      <th>San Ysidro</th>\n",
       "      <td>106</td>\n",
       "      <td>106</td>\n",
       "    </tr>\n",
       "  </tbody>\n",
       "</table>\n",
       "</div>"
      ],
      "text/plain": [
       "              avg sale   sum\n",
       "city                        \n",
       "Laguna Hills       126   252\n",
       "Aptos              126  3548\n",
       "Santa Ana          113   226\n",
       "Costa Mesa         113  1021\n",
       "San Ysidro         106   106"
      ]
     },
     "execution_count": 24,
     "metadata": {},
     "output_type": "execute_result"
    }
   ],
   "source": [
    "# Sort by avg purchase for each city in descending order, displaying first 5 entries \n",
    "df_city_group.sort_values(by='avg sale', ascending=False).head()"
   ]
  },
  {
   "cell_type": "code",
   "execution_count": 42,
   "metadata": {},
   "outputs": [
    {
     "data": {
      "text/html": [
       "<div>\n",
       "<table border=\"1\" class=\"dataframe\">\n",
       "  <thead>\n",
       "    <tr style=\"text-align: right;\">\n",
       "      <th></th>\n",
       "      <th>avg time</th>\n",
       "      <th>max</th>\n",
       "    </tr>\n",
       "    <tr>\n",
       "      <th>city</th>\n",
       "      <th></th>\n",
       "      <th></th>\n",
       "    </tr>\n",
       "  </thead>\n",
       "  <tbody>\n",
       "    <tr>\n",
       "      <th>Los Gatos</th>\n",
       "      <td>803</td>\n",
       "      <td>1604</td>\n",
       "    </tr>\n",
       "    <tr>\n",
       "      <th>Carson</th>\n",
       "      <td>498</td>\n",
       "      <td>2264</td>\n",
       "    </tr>\n",
       "    <tr>\n",
       "      <th>Hermosa Beach</th>\n",
       "      <td>452</td>\n",
       "      <td>2327</td>\n",
       "    </tr>\n",
       "    <tr>\n",
       "      <th>National City</th>\n",
       "      <td>428</td>\n",
       "      <td>1288</td>\n",
       "    </tr>\n",
       "    <tr>\n",
       "      <th>Redondo Beach</th>\n",
       "      <td>403</td>\n",
       "      <td>1766</td>\n",
       "    </tr>\n",
       "  </tbody>\n",
       "</table>\n",
       "</div>"
      ],
      "text/plain": [
       "               avg time   max\n",
       "city                         \n",
       "Los Gatos           803  1604\n",
       "Carson              498  2264\n",
       "Hermosa Beach       452  2327\n",
       "National City       428  1288\n",
       "Redondo Beach       403  1766"
      ]
     },
     "execution_count": 42,
     "metadata": {},
     "output_type": "execute_result"
    }
   ],
   "source": [
    "# The following dataframe groups df_join by city and yields average wait time, displaying first 5 entries \n",
    "df_city_group_time = (df_join.set_index('city').groupby(level=0)['delivery time']\n",
    "                 .agg({'avg time': np.mean, 'max': np.max})\n",
    "                 .astype(int))\n",
    "df_city_group_time.sort_values(by='avg time', ascending=False).head()"
   ]
  },
  {
   "cell_type": "code",
   "execution_count": null,
   "metadata": {
    "collapsed": true
   },
   "outputs": [],
   "source": []
  },
  {
   "cell_type": "markdown",
   "metadata": {
    "collapsed": true
   },
   "source": [
    "# 5. Create any visualization of the data that you think would display meaningful insight."
   ]
  },
  {
   "cell_type": "code",
   "execution_count": 28,
   "metadata": {},
   "outputs": [
    {
     "data": {
      "image/png": "[encoded data removed]",
      "text/plain": [
       "<matplotlib.figure.Figure at 0x116084da0>"
      ]
     },
     "metadata": {},
     "output_type": "display_data"
    }
   ],
   "source": [
    "df_join.city.value_counts().plot(kind='bar', alpha=.5, color='orange',  figsize=(16, 8), title ='Histogram of sales by City'); "
   ]
  },
  {
   "cell_type": "code",
   "execution_count": 43,
   "metadata": {},
   "outputs": [
    {
     "data": {
      "image/png": "[encoded data removed]",
      "text/plain": [
       "<matplotlib.figure.Figure at 0x1198f9d30>"
      ]
     },
     "metadata": {},
     "output_type": "display_data"
    }
   ],
   "source": [
    "df_city_group['sum'].sort_values(ascending = False).plot(kind='bar', alpha=.5, color='orange',  figsize=(16, 8), title ='Total Sales per City'); "
   ]
  },
  {
   "cell_type": "code",
   "execution_count": 126,
   "metadata": {},
   "outputs": [
    {
     "data": {
      "text/plain": [
       "'The total sales contributed for listed cities: 41.1%'"
      ]
     },
     "execution_count": 126,
     "metadata": {},
     "output_type": "execute_result"
    }
   ],
   "source": [
    "# What percentage of total sales do San Francisco and Oakland contribute?\n",
    "def perc_sales(df, cities, sum_):\n",
    "    '''A function to calculate total percentage of sales from a list of cities. \n",
    "    The inputs are a dataframe, list of cities, and a string column name for sum of sales'''\n",
    "    return 'The total sales contributed for listed cities: {:0.1f}%'.format(sum([df.loc[item, sum_] for item in cities]) / df[sum_].sum() * 100)\n",
    "\n",
    "\n",
    "perc_sales(df_city_group, ['San Francisco', 'Oakland'], 'sum')"
   ]
  },
  {
   "cell_type": "code",
   "execution_count": 75,
   "metadata": {},
   "outputs": [
    {
     "data": {
      "text/plain": [
       "'Average sale $69 with a median of $55'"
      ]
     },
     "execution_count": 75,
     "metadata": {},
     "output_type": "execute_result"
    },
    {
     "data": {
      "image/png": "[encoded data removed]",
      "text/plain": [
       "<matplotlib.figure.Figure at 0x1188f95f8>"
      ]
     },
     "metadata": {},
     "output_type": "display_data"
    }
   ],
   "source": [
    "df_join.sales.plot.hist(\n",
    "    alpha=.5, color='orange', bins=100,  figsize=(16, 8), title='Sales [$] histogram')\n",
    "\n",
    "'Average sale ${} with a median of ${}'.format(\n",
    "    \"%.0f\" % df_join.sales.mean(), \"%.0f\" % df_join.sales.median())"
   ]
  },
  {
   "cell_type": "code",
   "execution_count": 45,
   "metadata": {},
   "outputs": [
    {
     "data": {
      "image/png": "[encoded data removed]",
      "text/plain": [
       "<matplotlib.figure.Figure at 0x119a22668>"
      ]
     },
     "metadata": {},
     "output_type": "display_data"
    }
   ],
   "source": [
    "(df_city_group_time['avg time'].sort_values(ascending = False)\n",
    "    .plot(kind='bar', alpha=.5, color='orange',  figsize=(16, 8), title ='Avg delivery time per City')); "
   ]
  },
  {
   "cell_type": "code",
   "execution_count": 40,
   "metadata": {},
   "outputs": [
    {
     "data": {
      "text/plain": [
       "'Average estimated delivery time: 227 s with a median of 150 s'"
      ]
     },
     "execution_count": 40,
     "metadata": {},
     "output_type": "execute_result"
    },
    {
     "data": {
      "image/png": "[encoded data removed]",
      "text/plain": [
       "<matplotlib.figure.Figure at 0x1198aac50>"
      ]
     },
     "metadata": {},
     "output_type": "display_data"
    }
   ],
   "source": [
    "df_join['delivery time'].plot.hist(\n",
    "    alpha=.5, color='orange', bins=100,  figsize=(16, 8), title='Estimated Delivery Time [s] histogram')\n",
    "\n",
    "'Average estimated delivery time: {} s with a median of {} s'.format(\n",
    "    \"%.0f\" % df_join['delivery time'].mean(), \"%.0f\" % df_join['delivery time'].median())"
   ]
  },
  {
   "cell_type": "code",
   "execution_count": 180,
   "metadata": {},
   "outputs": [
    {
     "data": {
      "image/png": "[encoded data removed]",
      "text/plain": [
       "<matplotlib.figure.Figure at 0x11a484198>"
      ]
     },
     "metadata": {},
     "output_type": "display_data"
    }
   ],
   "source": [
    "# plots average time versus sum of sales for city \n",
    "# merges dataframes which have total sales and average delivery, merges on cities \n",
    "df_time_sales = pd.merge(df_city_group, df_city_group_time, how='outer',\n",
    "                   left_index=True, right_index=True)\n",
    "\n",
    "sns.set(style=\"ticks\");\n",
    "x = df_time_sales['sum']\n",
    "y = df_time_sales['avg time']\n",
    "g = sns.jointplot(x, y, kind=\"hex\",  color=\"#d95f0e\")\n",
    "g.fig.set_size_inches(16,8)\n",
    "g.fig.suptitle('Average delivery time versus sum of sales');"
   ]
  },
  {
   "cell_type": "code",
   "execution_count": 130,
   "metadata": {
    "collapsed": true
   },
   "outputs": [],
   "source": [
    "# The following code generates a heatmap with location data\n",
    "# load a Numpy array of (latitude, longitude) pairs from dataframe\n",
    "locations = df_join[[\"lat\", \"lon\"]].dropna()\n",
    "# Center map on bakersfield\n",
    "bakersfield_coord = (35.376175, -119.022102)\n",
    "fig = gmaps.figure(center=bakersfield_coord, zoom_level=6)\n",
    "# Generate heatmap for locations\n",
    "fig.add_layer(gmaps.heatmap_layer(locations))\n",
    "# Used to export map as html\n",
    "embed_minimal_html('map.html', views=[fig])"
   ]
  },
  {
   "cell_type": "markdown",
   "metadata": {},
   "source": [
    "# 6. Explain (at a high level) how you could use any insights derived above to advance the company financially.\n",
    "\n",
    "Starting with the first graph above, the **Histogram of Sales by City** we see that San Francisco yields the most sales. The sales in San Francisco are nearly 3 times the sales of Oakland—the second leader in sales transactions. One could conclude that whatever marketing strategies are being used in used in San Francisco should be executed in other cities as well, especially cities in the east bay. However, local competition could be capturing the Oakland market.\n",
    "\n",
    "The next graphic **Total Sales per City** essentially mirrors the previous. Ostensibly the number of transactions is closely correlated with total sales generated. We see San Francisco generated more than 3 times the sales of Oakland. The two cities (San Francisco and Oakland) accounted for 41% of total sales.\n",
    "\n",
    "The next graphic of interest is the **Estimated Delivery Time [s] histogram**. It demonstrates that on the whole delivery times are well behaved with not many outlier points that demand attention for curtailing delivery times. This is great! Whichever best practices are being used here should be applauded. From the graphic **Avg delivery time per City**, we see the city of Los Gatos had the highest average delivery time (800 s), nearly the 3.5 times the average time of 227 s. The long times could be due to the few sales in that city. Nearby San Jose had average delivery times, but much greater sales than Los Gatos. From the graph **Average delivery time versus sum of sales**  we see average delivery times do not scale down with total sales, i.e. no correlation. For delivery times there seems to be a regression to the mean of 227 s. \n",
    "\n",
    "Unfortunately, there was insufficient day and time data. Such data could have yielded the day and time most purchases are made. Armed with that information, one such testable hypothesis, perhaps on a smaller market, could have been to run promotions on days when sales are low. \n",
    "\n",
    "The heatmap below shows hot spots for where most of the sales are geographical generated. Most of the high-density locations (Bay Area, Los Angeles, San Diego) are well represented. However, medium-sized cities like Sacramento and Fresno are virtually untapped. Moreover, the San Joaquin Valley is a largely untapped market.\n"
   ]
  },
  {
   "cell_type": "code",
   "execution_count": 1,
   "metadata": {},
   "outputs": [
    {
     "data": {
      "text/html": [
       "<iframe width = \"100%\" height = \"475\" src=\"map.html\"></ iframe>"
      ],
      "text/plain": [
       "<IPython.core.display.HTML object>"
      ]
     },
     "metadata": {},
     "output_type": "display_data"
    }
   ],
   "source": [
    "%%HTML\n",
    "<iframe width = \"100%\" height = \"475\" src=\"map.html\"></ iframe>"
   ]
  }
 ],
 "metadata": {
  "kernelspec": {
   "display_name": "Python 3",
   "language": "python",
   "name": "python3"
  },
  "language_info": {
   "codemirror_mode": {
    "name": "ipython",
    "version": 3
   },
   "file_extension": ".py",
   "mimetype": "text/x-python",
   "name": "python",
   "nbconvert_exporter": "python",
   "pygments_lexer": "ipython3",
   "version": "3.6.3"
  }
 },
 "nbformat": 4,
 "nbformat_minor": 2
}
